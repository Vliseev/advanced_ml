{
 "cells": [
  {
   "cell_type": "markdown",
   "metadata": {},
   "source": [
    "### 1\n",
    "Consider a vector $(1, -2, 0.5)$. Apply a softmax transform to it and enter the first component (accurate to 2 decimal places)."
   ]
  },
  {
   "cell_type": "code",
   "execution_count": 1,
   "metadata": {
    "collapsed": true
   },
   "outputs": [],
   "source": [
    "import numpy as np\n",
    "\n",
    "def softmax(x):\n",
    "    '''\n",
    "    >>> res = softmax(np.array([0, 200, 10]))\n",
    "    >>> np.sum(res)\n",
    "    1.0\n",
    "    >>> np.all(np.abs(res - np.array([0, 1, 0])) < 0.0001)\n",
    "    True\n",
    "    >>> res = softmax(np.array([[0, 200, 10], [0, 10, 200], [200, 0, 10]]))\n",
    "    >>> np.sum(res, axis=1)\n",
    "    array([ 1.,  1.,  1.])\n",
    "    >>> res = softmax(np.array([[0, 200, 10], [0, 10, 200]]))\n",
    "    >>> np.sum(res, axis=1)\n",
    "    array([ 1.,  1.])\n",
    "    '''\n",
    "    if x.ndim == 1:\n",
    "        x = x.reshape((1, -1))\n",
    "    max_x = np.max(x, axis=1).reshape((-1, 1))\n",
    "    exp_x = np.exp(x - max_x)\n",
    "    return exp_x / np.sum(exp_x, axis=1).reshape((-1, 1))"
   ]
  },
  {
   "cell_type": "code",
   "execution_count": 2,
   "metadata": {},
   "outputs": [
    {
     "data": {
      "text/plain": [
       "array([[ 0.6037489 ,  0.03005889,  0.36619222]])"
      ]
     },
     "execution_count": 2,
     "metadata": {},
     "output_type": "execute_result"
    }
   ],
   "source": [
    "softmax(np.array([1,-2,0.5]))"
   ]
  }
 ],
 "metadata": {
  "kernelspec": {
   "display_name": "Python 3",
   "language": "python",
   "name": "python3"
  },
  "language_info": {
   "codemirror_mode": {
    "name": "ipython",
    "version": 3
   },
   "file_extension": ".py",
   "mimetype": "text/x-python",
   "name": "python",
   "nbconvert_exporter": "python",
   "pygments_lexer": "ipython3",
   "version": "3.6.1"
  }
 },
 "nbformat": 4,
 "nbformat_minor": 2
}
